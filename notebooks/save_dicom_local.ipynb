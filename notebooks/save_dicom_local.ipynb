{
 "cells": [
  {
   "cell_type": "code",
   "execution_count": 1,
   "metadata": {},
   "outputs": [],
   "source": [
    "import requests\n",
    "import pydicom\n",
    "from io import BytesIO\n",
    "\n",
    "\n",
    "site_url = 'https://tdm.staging.thirona.eu/'\n",
    "base_url = f'{site_url}/api/v2/'\n",
    "\n",
    "session = requests.session()\n",
    "\n",
    "get = session.get(site_url)\n",
    "post = session.post(\n",
    "    get.url,\n",
    "    {\n",
    "        'username':'waqarali@thirona.eu',\n",
    "        'password':'P$wd1234',\n",
    "        'csrfmiddlewaretoken':get.cookies['csrftoken'],\n",
    "    },\n",
    "    headers={\n",
    "        'referer':site_url\n",
    "    }\n",
    ")"
   ]
  },
  {
   "cell_type": "code",
   "execution_count": 2,
   "metadata": {},
   "outputs": [],
   "source": [
    "res = session.get(f'{base_url}/series/1112/results/')\n",
    "the_file = session.get(res.json()[0]['value'])\n",
    "ds = pydicom.dcmread(BytesIO(the_file.content),force=True)"
   ]
  }
 ],
 "metadata": {
  "kernelspec": {
   "display_name": "Python 3.10.6 ('playgrnd')",
   "language": "python",
   "name": "python3"
  },
  "language_info": {
   "codemirror_mode": {
    "name": "ipython",
    "version": 3
   },
   "file_extension": ".py",
   "mimetype": "text/x-python",
   "name": "python",
   "nbconvert_exporter": "python",
   "pygments_lexer": "ipython3",
   "version": "3.10.6"
  },
  "orig_nbformat": 4,
  "vscode": {
   "interpreter": {
    "hash": "7e673343d99a03e0538d6eb9b4e2c170208acbe93331d84d628ec338def1bcc0"
   }
  }
 },
 "nbformat": 4,
 "nbformat_minor": 2
}
